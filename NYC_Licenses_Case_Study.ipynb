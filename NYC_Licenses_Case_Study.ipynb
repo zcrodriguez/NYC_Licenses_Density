{
 "cells": [
  {
   "cell_type": "markdown",
   "metadata": {},
   "source": [
    "# Prueba Técnica Desarrollador IA - Alianza Team\n"
   ]
  },
  {
   "cell_type": "markdown",
   "metadata": {},
   "source": [
    "## **Introducción**\n",
    "> 🎯 **Objetivo**: Desarrollar un modelo predictivo utilizando técnicas de machine learning (ML) para estimar la densidad de licencias comerciales por habitante en cada código postal de la ciudad de Nueva York.\n",
    "\n",
    "## **Insumos**\n",
    "| Archivo | Descripción | Fuente |\n",
    "| :--- | :--- | :--- |\n",
    "| `demographic-statistics-by-zip-code-1.csv` | La tabla muestra **estadísticas demográficas** de personas que participan en programas financiados por el Departamento de Desarrollo Comunitario y Juvenil de Nueva York (DYCD), organizadas por código postal. | [Demographic Statistics By Zip Code \\| data.world](https://data.world/city-of-ny/kku6-nxdu) |\n",
    "| `DCA_Legally_Operating_Businesses_03062015.xlsx` | Este conjunto de datos incluye licencias emitidas por el Departamento de Protección al Consumidor y al Trabajador (DCWP) a **empresas** (*Premises*) y **personas naturales** (*Individuals*) para que puedan operar legalmente en la ciudad de Nueva York. | [Legally operating businesses \\| NYC Open Data](https://data.cityofnewyork.us/Business/Legally-Operating-Businesses/w7w3-xahh/about_data) |\n",
    "\n",
    "## **Definiciones**\n",
    "### **Densidad de Licencias Comerciales**\n",
    "$$ \\text{Densidad de Licencias Comerciales} = \\frac{\\text{Número de Licencias Comerciales}}{\\text{Población Total}} $$"
   ]
  },
  {
   "cell_type": "markdown",
   "metadata": {},
   "source": [
    "## **1. Preparación de los datos**"
   ]
  },
  {
   "cell_type": "code",
   "execution_count": 77,
   "metadata": {},
   "outputs": [],
   "source": [
    "# Importar librerías (pandas, numpy, matplotlib)\n",
    "import pandas as pd"
   ]
  },
  {
   "cell_type": "code",
   "execution_count": 78,
   "metadata": {},
   "outputs": [],
   "source": [
    "# Importar datos\n",
    "demographics = pd.read_csv('Sources/demographic-statistics-by-zip-code-1.csv')\n",
    "licenses = pd.read_excel('Sources/DCA_Legally_Operating_Businesses_03062015.xlsx')"
   ]
  },
  {
   "cell_type": "code",
   "execution_count": 79,
   "metadata": {},
   "outputs": [
    {
     "name": "stdout",
     "output_type": "stream",
     "text": [
      "Shape de los datos de Demografía:  (236, 46)\n",
      "Shape de los datos de Licencias:  (65798, 14)\n"
     ]
    }
   ],
   "source": [
    "# Dimensiones de los datos\n",
    "print('Shape de los datos de Demografía: ', demographics.shape)\n",
    "print('Shape de los datos de Licencias: ', licenses.shape)\n"
   ]
  },
  {
   "cell_type": "markdown",
   "metadata": {},
   "source": [
    "### **Tabla 1. Demografía**\n",
    "Considerando el objetivo de este estudio, las **variables relevantes** para la preparación de los datos son:\n",
    "- `JURISDICTION NAME`: Código postal.\n",
    "- `COUNT PARTICIPANTS`: Número de participantes."
   ]
  },
  {
   "cell_type": "code",
   "execution_count": 80,
   "metadata": {},
   "outputs": [
    {
     "data": {
      "text/html": [
       "<div>\n",
       "<style scoped>\n",
       "    .dataframe tbody tr th:only-of-type {\n",
       "        vertical-align: middle;\n",
       "    }\n",
       "\n",
       "    .dataframe tbody tr th {\n",
       "        vertical-align: top;\n",
       "    }\n",
       "\n",
       "    .dataframe thead th {\n",
       "        text-align: right;\n",
       "    }\n",
       "</style>\n",
       "<table border=\"1\" class=\"dataframe\">\n",
       "  <thead>\n",
       "    <tr style=\"text-align: right;\">\n",
       "      <th></th>\n",
       "      <th>JURISDICTION NAME</th>\n",
       "      <th>COUNT PARTICIPANTS</th>\n",
       "      <th>COUNT FEMALE</th>\n",
       "      <th>PERCENT FEMALE</th>\n",
       "      <th>COUNT MALE</th>\n",
       "      <th>PERCENT MALE</th>\n",
       "      <th>COUNT GENDER UNKNOWN</th>\n",
       "      <th>PERCENT GENDER UNKNOWN</th>\n",
       "      <th>COUNT GENDER TOTAL</th>\n",
       "      <th>PERCENT GENDER TOTAL</th>\n",
       "      <th>...</th>\n",
       "      <th>COUNT CITIZEN STATUS TOTAL</th>\n",
       "      <th>PERCENT CITIZEN STATUS TOTAL</th>\n",
       "      <th>COUNT RECEIVES PUBLIC ASSISTANCE</th>\n",
       "      <th>PERCENT RECEIVES PUBLIC ASSISTANCE</th>\n",
       "      <th>COUNT NRECEIVES PUBLIC ASSISTANCE</th>\n",
       "      <th>PERCENT NRECEIVES PUBLIC ASSISTANCE</th>\n",
       "      <th>COUNT PUBLIC ASSISTANCE UNKNOWN</th>\n",
       "      <th>PERCENT PUBLIC ASSISTANCE UNKNOWN</th>\n",
       "      <th>COUNT PUBLIC ASSISTANCE TOTAL</th>\n",
       "      <th>PERCENT PUBLIC ASSISTANCE TOTAL</th>\n",
       "    </tr>\n",
       "  </thead>\n",
       "  <tbody>\n",
       "    <tr>\n",
       "      <th>0</th>\n",
       "      <td>10001</td>\n",
       "      <td>44</td>\n",
       "      <td>22</td>\n",
       "      <td>0.50</td>\n",
       "      <td>22</td>\n",
       "      <td>0.50</td>\n",
       "      <td>0</td>\n",
       "      <td>0</td>\n",
       "      <td>44</td>\n",
       "      <td>100</td>\n",
       "      <td>...</td>\n",
       "      <td>44</td>\n",
       "      <td>100</td>\n",
       "      <td>20</td>\n",
       "      <td>0.45</td>\n",
       "      <td>24</td>\n",
       "      <td>0.55</td>\n",
       "      <td>0</td>\n",
       "      <td>0</td>\n",
       "      <td>44</td>\n",
       "      <td>100</td>\n",
       "    </tr>\n",
       "    <tr>\n",
       "      <th>1</th>\n",
       "      <td>10002</td>\n",
       "      <td>35</td>\n",
       "      <td>19</td>\n",
       "      <td>0.54</td>\n",
       "      <td>16</td>\n",
       "      <td>0.46</td>\n",
       "      <td>0</td>\n",
       "      <td>0</td>\n",
       "      <td>35</td>\n",
       "      <td>100</td>\n",
       "      <td>...</td>\n",
       "      <td>35</td>\n",
       "      <td>100</td>\n",
       "      <td>2</td>\n",
       "      <td>0.06</td>\n",
       "      <td>33</td>\n",
       "      <td>0.94</td>\n",
       "      <td>0</td>\n",
       "      <td>0</td>\n",
       "      <td>35</td>\n",
       "      <td>100</td>\n",
       "    </tr>\n",
       "    <tr>\n",
       "      <th>2</th>\n",
       "      <td>10003</td>\n",
       "      <td>1</td>\n",
       "      <td>1</td>\n",
       "      <td>1.00</td>\n",
       "      <td>0</td>\n",
       "      <td>0.00</td>\n",
       "      <td>0</td>\n",
       "      <td>0</td>\n",
       "      <td>1</td>\n",
       "      <td>100</td>\n",
       "      <td>...</td>\n",
       "      <td>1</td>\n",
       "      <td>100</td>\n",
       "      <td>0</td>\n",
       "      <td>0.00</td>\n",
       "      <td>1</td>\n",
       "      <td>1.00</td>\n",
       "      <td>0</td>\n",
       "      <td>0</td>\n",
       "      <td>1</td>\n",
       "      <td>100</td>\n",
       "    </tr>\n",
       "    <tr>\n",
       "      <th>3</th>\n",
       "      <td>10004</td>\n",
       "      <td>0</td>\n",
       "      <td>0</td>\n",
       "      <td>0.00</td>\n",
       "      <td>0</td>\n",
       "      <td>0.00</td>\n",
       "      <td>0</td>\n",
       "      <td>0</td>\n",
       "      <td>0</td>\n",
       "      <td>0</td>\n",
       "      <td>...</td>\n",
       "      <td>0</td>\n",
       "      <td>0</td>\n",
       "      <td>0</td>\n",
       "      <td>0.00</td>\n",
       "      <td>0</td>\n",
       "      <td>0.00</td>\n",
       "      <td>0</td>\n",
       "      <td>0</td>\n",
       "      <td>0</td>\n",
       "      <td>0</td>\n",
       "    </tr>\n",
       "    <tr>\n",
       "      <th>4</th>\n",
       "      <td>10005</td>\n",
       "      <td>2</td>\n",
       "      <td>2</td>\n",
       "      <td>1.00</td>\n",
       "      <td>0</td>\n",
       "      <td>0.00</td>\n",
       "      <td>0</td>\n",
       "      <td>0</td>\n",
       "      <td>2</td>\n",
       "      <td>100</td>\n",
       "      <td>...</td>\n",
       "      <td>2</td>\n",
       "      <td>100</td>\n",
       "      <td>0</td>\n",
       "      <td>0.00</td>\n",
       "      <td>2</td>\n",
       "      <td>1.00</td>\n",
       "      <td>0</td>\n",
       "      <td>0</td>\n",
       "      <td>2</td>\n",
       "      <td>100</td>\n",
       "    </tr>\n",
       "  </tbody>\n",
       "</table>\n",
       "<p>5 rows × 46 columns</p>\n",
       "</div>"
      ],
      "text/plain": [
       "   JURISDICTION NAME  COUNT PARTICIPANTS  COUNT FEMALE  PERCENT FEMALE  \\\n",
       "0              10001                  44            22            0.50   \n",
       "1              10002                  35            19            0.54   \n",
       "2              10003                   1             1            1.00   \n",
       "3              10004                   0             0            0.00   \n",
       "4              10005                   2             2            1.00   \n",
       "\n",
       "   COUNT MALE  PERCENT MALE  COUNT GENDER UNKNOWN  PERCENT GENDER UNKNOWN  \\\n",
       "0          22          0.50                     0                       0   \n",
       "1          16          0.46                     0                       0   \n",
       "2           0          0.00                     0                       0   \n",
       "3           0          0.00                     0                       0   \n",
       "4           0          0.00                     0                       0   \n",
       "\n",
       "   COUNT GENDER TOTAL  PERCENT GENDER TOTAL  ...  COUNT CITIZEN STATUS TOTAL  \\\n",
       "0                  44                   100  ...                          44   \n",
       "1                  35                   100  ...                          35   \n",
       "2                   1                   100  ...                           1   \n",
       "3                   0                     0  ...                           0   \n",
       "4                   2                   100  ...                           2   \n",
       "\n",
       "   PERCENT CITIZEN STATUS TOTAL  COUNT RECEIVES PUBLIC ASSISTANCE  \\\n",
       "0                           100                                20   \n",
       "1                           100                                 2   \n",
       "2                           100                                 0   \n",
       "3                             0                                 0   \n",
       "4                           100                                 0   \n",
       "\n",
       "   PERCENT RECEIVES PUBLIC ASSISTANCE  COUNT NRECEIVES PUBLIC ASSISTANCE  \\\n",
       "0                                0.45                                 24   \n",
       "1                                0.06                                 33   \n",
       "2                                0.00                                  1   \n",
       "3                                0.00                                  0   \n",
       "4                                0.00                                  2   \n",
       "\n",
       "   PERCENT NRECEIVES PUBLIC ASSISTANCE  COUNT PUBLIC ASSISTANCE UNKNOWN  \\\n",
       "0                                 0.55                                0   \n",
       "1                                 0.94                                0   \n",
       "2                                 1.00                                0   \n",
       "3                                 0.00                                0   \n",
       "4                                 1.00                                0   \n",
       "\n",
       "   PERCENT PUBLIC ASSISTANCE UNKNOWN  COUNT PUBLIC ASSISTANCE TOTAL  \\\n",
       "0                                  0                             44   \n",
       "1                                  0                             35   \n",
       "2                                  0                              1   \n",
       "3                                  0                              0   \n",
       "4                                  0                              2   \n",
       "\n",
       "   PERCENT PUBLIC ASSISTANCE TOTAL  \n",
       "0                              100  \n",
       "1                              100  \n",
       "2                              100  \n",
       "3                                0  \n",
       "4                              100  \n",
       "\n",
       "[5 rows x 46 columns]"
      ]
     },
     "execution_count": 80,
     "metadata": {},
     "output_type": "execute_result"
    }
   ],
   "source": [
    "demographics.head()"
   ]
  },
  {
   "cell_type": "markdown",
   "metadata": {},
   "source": [
    "- Como se puede observar, en la tabla `demographics` hay códigos postales con un recuento de participantes igual a cero.\n",
    "- Dada la definición de la densidad de licencias comerciales, estos códigos postales no aportarán información relevante al modelo predictivo. Por lo tanto, se procederá a **eliminar** estos registros."
   ]
  },
  {
   "cell_type": "code",
   "execution_count": 81,
   "metadata": {},
   "outputs": [
    {
     "name": "stdout",
     "output_type": "stream",
     "text": [
      "Registros por eliminar:  131\n",
      "Registros útiles restantes:  105\n"
     ]
    }
   ],
   "source": [
    "print(\"Registros por eliminar: \", demographics[demographics['COUNT PARTICIPANTS'] == 0].shape[0])\n",
    "print(\"Registros útiles restantes: \", demographics.shape[0] - demographics[demographics['COUNT PARTICIPANTS'] == 0].shape[0])"
   ]
  },
  {
   "cell_type": "code",
   "execution_count": 82,
   "metadata": {},
   "outputs": [],
   "source": [
    "# Eliminar registros con 0 participantes\n",
    "demographics = demographics[demographics['COUNT PARTICIPANTS'] != 0]"
   ]
  },
  {
   "cell_type": "markdown",
   "metadata": {},
   "source": [
    "Después de eliminar registros innecesarios, podemos revisar las columnas para eliminar aquellas que no aportan información relevante al modelo predictivo."
   ]
  },
  {
   "cell_type": "code",
   "execution_count": 83,
   "metadata": {},
   "outputs": [
    {
     "name": "stdout",
     "output_type": "stream",
     "text": [
      "<class 'pandas.core.frame.DataFrame'>\n",
      "Index: 105 entries, 0 to 233\n",
      "Data columns (total 46 columns):\n",
      " #   Column                               Non-Null Count  Dtype  \n",
      "---  ------                               --------------  -----  \n",
      " 0   JURISDICTION NAME                    105 non-null    int64  \n",
      " 1   COUNT PARTICIPANTS                   105 non-null    int64  \n",
      " 2   COUNT FEMALE                         105 non-null    int64  \n",
      " 3   PERCENT FEMALE                       105 non-null    float64\n",
      " 4   COUNT MALE                           105 non-null    int64  \n",
      " 5   PERCENT MALE                         105 non-null    float64\n",
      " 6   COUNT GENDER UNKNOWN                 105 non-null    int64  \n",
      " 7   PERCENT GENDER UNKNOWN               105 non-null    int64  \n",
      " 8   COUNT GENDER TOTAL                   105 non-null    int64  \n",
      " 9   PERCENT GENDER TOTAL                 105 non-null    int64  \n",
      " 10  COUNT PACIFIC ISLANDER               105 non-null    int64  \n",
      " 11  PERCENT PACIFIC ISLANDER             105 non-null    float64\n",
      " 12  COUNT HISPANIC LATINO                105 non-null    int64  \n",
      " 13  PERCENT HISPANIC LATINO              105 non-null    float64\n",
      " 14  COUNT AMERICAN INDIAN                105 non-null    int64  \n",
      " 15  PERCENT AMERICAN INDIAN              105 non-null    float64\n",
      " 16  COUNT ASIAN NON HISPANIC             105 non-null    int64  \n",
      " 17  PERCENT ASIAN NON HISPANIC           105 non-null    float64\n",
      " 18  COUNT WHITE NON HISPANIC             105 non-null    int64  \n",
      " 19  PERCENT WHITE NON HISPANIC           105 non-null    float64\n",
      " 20  COUNT BLACK NON HISPANIC             105 non-null    int64  \n",
      " 21  PERCENT BLACK NON HISPANIC           105 non-null    float64\n",
      " 22  COUNT OTHER ETHNICITY                105 non-null    int64  \n",
      " 23  PERCENT OTHER ETHNICITY              105 non-null    float64\n",
      " 24  COUNT ETHNICITY UNKNOWN              105 non-null    int64  \n",
      " 25  PERCENT ETHNICITY UNKNOWN            105 non-null    float64\n",
      " 26  COUNT ETHNICITY TOTAL                105 non-null    int64  \n",
      " 27  PERCENT ETHNICITY TOTAL              105 non-null    int64  \n",
      " 28  COUNT PERMANENT RESIDENT ALIEN       105 non-null    int64  \n",
      " 29  PERCENT PERMANENT RESIDENT ALIEN     105 non-null    float64\n",
      " 30  COUNT US CITIZEN                     105 non-null    int64  \n",
      " 31  PERCENT US CITIZEN                   105 non-null    float64\n",
      " 32  COUNT OTHER CITIZEN STATUS           105 non-null    int64  \n",
      " 33  PERCENT OTHER CITIZEN STATUS         105 non-null    float64\n",
      " 34  COUNT CITIZEN STATUS UNKNOWN         105 non-null    int64  \n",
      " 35  PERCENT CITIZEN STATUS UNKNOWN       105 non-null    int64  \n",
      " 36  COUNT CITIZEN STATUS TOTAL           105 non-null    int64  \n",
      " 37  PERCENT CITIZEN STATUS TOTAL         105 non-null    int64  \n",
      " 38  COUNT RECEIVES PUBLIC ASSISTANCE     105 non-null    int64  \n",
      " 39  PERCENT RECEIVES PUBLIC ASSISTANCE   105 non-null    float64\n",
      " 40  COUNT NRECEIVES PUBLIC ASSISTANCE    105 non-null    int64  \n",
      " 41  PERCENT NRECEIVES PUBLIC ASSISTANCE  105 non-null    float64\n",
      " 42  COUNT PUBLIC ASSISTANCE UNKNOWN      105 non-null    int64  \n",
      " 43  PERCENT PUBLIC ASSISTANCE UNKNOWN    105 non-null    int64  \n",
      " 44  COUNT PUBLIC ASSISTANCE TOTAL        105 non-null    int64  \n",
      " 45  PERCENT PUBLIC ASSISTANCE TOTAL      105 non-null    int64  \n",
      "dtypes: float64(15), int64(31)\n",
      "memory usage: 38.6 KB\n"
     ]
    }
   ],
   "source": [
    "#Hacer un describe de los datos\n",
    "demographics.info()"
   ]
  },
  {
   "cell_type": "markdown",
   "metadata": {},
   "source": [
    "Por ejemplo:\n",
    "- Las columnas de censo no aportan información relevante para el modelo predictivo.\n",
    "- Podemos aprovechar los porcentajes y presindir de las columnas de recuento.\n",
    "- Las columnas de totales no aportan información relevante para el modelo predictivo."
   ]
  },
  {
   "cell_type": "code",
   "execution_count": 84,
   "metadata": {},
   "outputs": [],
   "source": [
    "# Eliminar columnas con 0, COUNT y TOTAL\n",
    "demographics = demographics.loc[:, (demographics != 0).any(axis=0)]\n",
    "demographics = demographics[demographics.columns.drop(list(demographics.filter(regex='COUNT')))]\n",
    "demographics = demographics[demographics.columns.drop(list(demographics.filter(regex='TOTAL')))]"
   ]
  },
  {
   "cell_type": "markdown",
   "metadata": {},
   "source": [
    "Como resultado pasamos de 45 columnas a 13 columnas de posibles predictores para el modelo."
   ]
  },
  {
   "cell_type": "code",
   "execution_count": 85,
   "metadata": {},
   "outputs": [
    {
     "name": "stdout",
     "output_type": "stream",
     "text": [
      "<class 'pandas.core.frame.DataFrame'>\n",
      "Index: 105 entries, 0 to 233\n",
      "Data columns (total 16 columns):\n",
      " #   Column                               Non-Null Count  Dtype  \n",
      "---  ------                               --------------  -----  \n",
      " 0   JURISDICTION NAME                    105 non-null    int64  \n",
      " 1   PERCENT FEMALE                       105 non-null    float64\n",
      " 2   PERCENT MALE                         105 non-null    float64\n",
      " 3   PERCENT PACIFIC ISLANDER             105 non-null    float64\n",
      " 4   PERCENT HISPANIC LATINO              105 non-null    float64\n",
      " 5   PERCENT AMERICAN INDIAN              105 non-null    float64\n",
      " 6   PERCENT ASIAN NON HISPANIC           105 non-null    float64\n",
      " 7   PERCENT WHITE NON HISPANIC           105 non-null    float64\n",
      " 8   PERCENT BLACK NON HISPANIC           105 non-null    float64\n",
      " 9   PERCENT OTHER ETHNICITY              105 non-null    float64\n",
      " 10  PERCENT ETHNICITY UNKNOWN            105 non-null    float64\n",
      " 11  PERCENT PERMANENT RESIDENT ALIEN     105 non-null    float64\n",
      " 12  PERCENT US CITIZEN                   105 non-null    float64\n",
      " 13  PERCENT OTHER CITIZEN STATUS         105 non-null    float64\n",
      " 14  PERCENT RECEIVES PUBLIC ASSISTANCE   105 non-null    float64\n",
      " 15  PERCENT NRECEIVES PUBLIC ASSISTANCE  105 non-null    float64\n",
      "dtypes: float64(15), int64(1)\n",
      "memory usage: 13.9 KB\n"
     ]
    }
   ],
   "source": [
    "demographics.info()"
   ]
  }
 ],
 "metadata": {
  "kernelspec": {
   "display_name": "Python 3",
   "language": "python",
   "name": "python3"
  },
  "language_info": {
   "name": "python",
   "version": "3.11.4"
  }
 },
 "nbformat": 4,
 "nbformat_minor": 2
}
